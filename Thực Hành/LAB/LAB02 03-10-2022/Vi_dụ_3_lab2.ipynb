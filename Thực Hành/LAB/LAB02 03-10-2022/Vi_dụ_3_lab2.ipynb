{
  "nbformat": 4,
  "nbformat_minor": 0,
  "metadata": {
    "colab": {
      "provenance": [],
      "collapsed_sections": []
    },
    "kernelspec": {
      "name": "python3",
      "display_name": "Python 3"
    },
    "language_info": {
      "name": "python"
    }
  },
  "cells": [
    {
      "cell_type": "code",
      "execution_count": 13,
      "metadata": {
        "id": "tYJ1iI8PhDvJ"
      },
      "outputs": [],
      "source": [
        "#Xuất ra top 10 bộ phim (chưa được người dùng xem) có dự đoán rating cao nhất cho UserID =20\n",
        "import pandas as pd\n",
        "\n",
        "ratings = pd.read_csv(\"/content/drive/MyDrive/Giảng dạy/Hệ khuyến nghị/movielens/ratings.csv\")\n",
        "movies = pd.read_csv(\"/content/drive/MyDrive/Giảng dạy/Hệ khuyến nghị/movielens/movies.csv\")"
      ]
    },
    {
      "cell_type": "code",
      "source": [
        "#lấy ra rating của một user cho 1 bộ phim\n",
        "def get_rating(userid,movieid):\n",
        "    return (ratings.loc[(ratings.userId==userid) & (ratings.movieId == movieid),'rating'].iloc[0])\n",
        "\n",
        "get_rating(8,2)"
      ],
      "metadata": {
        "colab": {
          "base_uri": "https://localhost:8080/"
        },
        "id": "RgE37tvzqwGH",
        "outputId": "65f2c3fc-ea02-4242-a78a-77b4496a88e6"
      },
      "execution_count": 21,
      "outputs": [
        {
          "output_type": "execute_result",
          "data": {
            "text/plain": [
              "4.0"
            ]
          },
          "metadata": {},
          "execution_count": 21
        }
      ]
    },
    {
      "cell_type": "code",
      "source": [
        "from numpy import sqrt\n",
        "\n",
        "def pearson_correlation_score(user1, user2):\n",
        "  both_watch_count = [] # danh sách các bộ phim được xem chung bởi user1 và user2\n",
        "  list_movie_user1 = ratings.loc[ratings.userId == user1, 'movieId'].to_list()\n",
        "  list_movie_user2 = ratings.loc[ratings.userId == user2, 'movieId'].to_list()\n",
        "\n",
        "  for element in list_movie_user1:\n",
        "    if element in list_movie_user2:\n",
        "       both_watch_count.append(element)\n",
        "  \n",
        "  if(len(both_watch_count) == 0):\n",
        "    return 0;\n",
        "  \n",
        "  rating_sum_1 = sum([get_rating(user1, i) for i in both_watch_count])\n",
        "  avg_rating_sum_1 = rating_sum_1/len(both_watch_count) # rating trung bình user1\n",
        "\n",
        "  rating_sum_2 = sum([get_rating(user2, i) for i in both_watch_count])\n",
        "  avg_rating_sum_2 = rating_sum_2/len(both_watch_count)# rating trung bình user2\n",
        "\n",
        "  tu = sum([(get_rating(user1, i) - avg_rating_sum_1)*(get_rating(user2, i) - avg_rating_sum_2)  for i in both_watch_count])\n",
        "  \n",
        "  mau = sqrt(sum([pow((get_rating(user1, i) - avg_rating_sum_1),2) for i in both_watch_count]))*sqrt(sum([pow((get_rating(user2, i) - avg_rating_sum_2),2) for i in both_watch_count]))\n",
        "\n",
        "  if(mau ==0 ):\n",
        "    return 0\n",
        "  \n",
        "  return tu/mau\n"
      ],
      "metadata": {
        "id": "9MsptuOCrLxQ"
      },
      "execution_count": 26,
      "outputs": []
    },
    {
      "cell_type": "code",
      "source": [
        "pearson_correlation_score(10,12)"
      ],
      "metadata": {
        "colab": {
          "base_uri": "https://localhost:8080/"
        },
        "id": "gD4m8rOyrLzV",
        "outputId": "9bbfbe32-da5c-4387-a557-bafec7e19696"
      },
      "execution_count": 29,
      "outputs": [
        {
          "output_type": "execute_result",
          "data": {
            "text/plain": [
              "0.5625000000000001"
            ]
          },
          "metadata": {},
          "execution_count": 29
        }
      ]
    },
    {
      "cell_type": "code",
      "source": [
        "from numpy import dot\n",
        "from numpy.linalg import norm\n",
        "from sklearn.metrics.pairwise import cosine_similarity\n",
        "\n",
        "def distance_similarity_score(user1,user2):\n",
        "\n",
        "    both_watch_count = 0\n",
        "    for element in ratings.loc[ratings.userId==user1,'movieId'].tolist():\n",
        "        if element in ratings.loc[ratings.userId==user2,'movieId'].tolist():\n",
        "            both_watch_count += 1\n",
        "    if both_watch_count == 0 :\n",
        "        return 0\n",
        "    \n",
        "\n",
        "    rating1 = []\n",
        "    rating2 = []\n",
        "    for element in ratings.loc[ratings.userId==user1,'movieId'].tolist():\n",
        "        if element in ratings.loc[ratings.userId==user2,'movieId'].tolist():\n",
        "            rating1.append(get_rating(user1,element))\n",
        "            rating2.append(get_rating(user2,element))\n",
        "\n",
        "    print(rating1)\n",
        "    print(rating2)\n",
        "\n",
        "    return dot(rating1, rating2)/(norm(rating1)*norm(rating2))\n",
        "\n",
        "print('Distance based similarity between user ids X & u1: {}'.format(distance_similarity_score(1,2)))\n",
        "print('Distance based similarity between user ids X & u2: {}'.format(distance_similarity_score(1,3)))\n",
        "print('Distance based similarity between user ids X & u3: {}'.format(distance_similarity_score(1,4)))"
      ],
      "metadata": {
        "colab": {
          "base_uri": "https://localhost:8080/"
        },
        "id": "w8AH2HfRrL07",
        "outputId": "a6525e41-4c78-43bc-9163-b1f0f122528b"
      },
      "execution_count": 36,
      "outputs": [
        {
          "output_type": "stream",
          "name": "stdout",
          "text": [
            "[5.0, 5.0]\n",
            "[4.0, 4.0]\n",
            "Distance based similarity between user ids X & u1: 0.9999999999999998\n",
            "[5.0, 5.0, 5.0, 5.0, 5.0, 4.0, 5.0]\n",
            "[0.5, 3.5, 4.5, 0.5, 0.5, 2.0, 5.0]\n",
            "Distance based similarity between user ids X & u2: 0.7919033104178548\n",
            "[5.0, 4.0, 5.0, 3.0, 4.0, 5.0, 5.0, 4.0, 5.0, 3.0, 5.0, 5.0, 4.0, 5.0, 5.0, 5.0, 5.0, 5.0, 5.0, 5.0, 2.0, 4.0, 5.0, 5.0, 4.0, 5.0, 3.0, 5.0, 5.0, 4.0, 5.0, 4.0, 5.0, 4.0, 5.0, 4.0, 5.0, 5.0, 5.0, 4.0, 5.0, 1.0, 5.0, 4.0, 4.0]\n",
            "[2.0, 2.0, 5.0, 1.0, 1.0, 5.0, 2.0, 5.0, 5.0, 3.0, 5.0, 4.0, 2.0, 4.0, 5.0, 5.0, 5.0, 5.0, 3.0, 4.0, 4.0, 4.0, 5.0, 4.0, 4.0, 4.0, 3.0, 2.0, 4.0, 5.0, 5.0, 5.0, 3.0, 4.0, 1.0, 1.0, 5.0, 5.0, 2.0, 4.0, 4.0, 4.0, 4.0, 1.0, 3.0]\n",
            "Distance based similarity between user ids X & u3: 0.9328095891279707\n"
          ]
        }
      ]
    },
    {
      "cell_type": "code",
      "source": [],
      "metadata": {
        "colab": {
          "base_uri": "https://localhost:8080/"
        },
        "id": "jsFFv0sUrL2g",
        "outputId": "1e92e5ef-350d-447b-ea43-d88a99f69afd"
      },
      "execution_count": 32,
      "outputs": [
        {
          "output_type": "execute_result",
          "data": {
            "text/plain": [
              "13"
            ]
          },
          "metadata": {},
          "execution_count": 32
        }
      ]
    },
    {
      "cell_type": "code",
      "source": [
        "def most_similar_user(user1, number_of_user, similarity_name):\n",
        "\n",
        "  user_ID = ratings.userId.unique().tolist()\n",
        "  print(len(user_ID))\n",
        "\n",
        "  if(similarity_name == \"pearson\"):\n",
        "    similarity_score = [(pearson_correlation_score(user1, user_i),user_i)  for user_i in user_ID[0:300] if user_i != user1] #danh sách user quá nhiều nên tình chỉ tính tên dánh sách có 50 users\n",
        "\n",
        "  # if(similarity_name == \"cosine\"):\n",
        "\n",
        "  \n",
        "\n",
        "  similarity_score.sort() #tăng dần\n",
        "  similarity_score.reverse() #tăng dần\n",
        "\n",
        "  return similarity_score[:10] # có thể thay đổi số lượng lân cận\n"
      ],
      "metadata": {
        "id": "BTIjhFQnrL4B"
      },
      "execution_count": 92,
      "outputs": []
    },
    {
      "cell_type": "code",
      "source": [
        "list_user_popular = most_similar_user(20, 10, \"pearson\")"
      ],
      "metadata": {
        "colab": {
          "base_uri": "https://localhost:8080/"
        },
        "id": "SmbJq1crrL5x",
        "outputId": "b9e9f058-fd0d-4cb7-ba4e-0d8ec19df6de"
      },
      "execution_count": 93,
      "outputs": [
        {
          "output_type": "stream",
          "name": "stdout",
          "text": [
            "610\n"
          ]
        }
      ]
    },
    {
      "cell_type": "code",
      "source": [
        "print(list_user_popular)"
      ],
      "metadata": {
        "colab": {
          "base_uri": "https://localhost:8080/"
        },
        "id": "hpoD8n309hg-",
        "outputId": "0d67d3d1-5637-4129-a247-b33e6fe1dfd2"
      },
      "execution_count": 94,
      "outputs": [
        {
          "output_type": "stream",
          "name": "stdout",
          "text": [
            "[(1.0000000000000002, 209), (1.0000000000000002, 127), (1.0000000000000002, 54), (1.0, 149), (1.0, 56), (0.9999999999999999, 296), (0.9999999999999998, 183), (0.9999999999999998, 175), (0.9999999999999998, 157), (0.9819805060619659, 191)]\n"
          ]
        }
      ]
    },
    {
      "cell_type": "code",
      "source": [
        "#danh sách các bộ phim đã rating bởi người dùng\n",
        "def get_movieids(userid):\n",
        "    return (ratings.loc[(ratings.userId==userid),'movieId'].tolist())\n",
        "\n",
        "#lất ra tên của một bộ phim\n",
        "def get_movie_title(movieid):\n",
        "    return (movies.loc[(movies.movieId == movieid),'title'].iloc[0])"
      ],
      "metadata": {
        "id": "KsLci-AdrL7O"
      },
      "execution_count": 95,
      "outputs": []
    },
    {
      "cell_type": "code",
      "source": [
        "total1 = {}\n",
        "\n",
        "total1[3] = 0\n",
        "total1[3] = 9\n",
        "\n",
        "total1[3]"
      ],
      "metadata": {
        "colab": {
          "base_uri": "https://localhost:8080/"
        },
        "id": "fLSZuc70EfhY",
        "outputId": "3353e8bc-9022-4bad-e415-4255b1db8b2e"
      },
      "execution_count": 108,
      "outputs": [
        {
          "output_type": "execute_result",
          "data": {
            "text/plain": [
              "9"
            ]
          },
          "metadata": {},
          "execution_count": 108
        }
      ]
    },
    {
      "cell_type": "code",
      "source": [
        "#lấy ra danh sách khuyến nghị từ top populars\n",
        "def get_recommendation1_(userid):\n",
        "    # user_ids = ratings.userId.unique().tolist()\n",
        "    total = {}\n",
        "    similariy_sum = {}\n",
        "    \n",
        "    # Iterating over subset of user ids.\n",
        "    for pearson, user in list_user_popular:\n",
        "        \n",
        "        score = pearson\n",
        "\n",
        "        for movieid in get_movieids_(user): #-> dánh sách các id movie đã xem bởi user khác và khởi tạo giá trị =0\n",
        "          if movieid not in get_movieids_(userid):\n",
        "            total[movieid] = 0\n",
        "            similariy_sum[movieid] = 0\n",
        "\n",
        "        for movieid in get_movieids_(user): #-> dánh sách các id movie đã xem bởi user khác\n",
        "          if movieid not in get_movieids_(userid):\n",
        "            total[movieid] += get_rating(user,movieid) * score\n",
        "            similariy_sum[movieid] += score\n",
        "\n",
        "        # for movieid in get_movieids_(user): #-> dánh sách các id movie đã xem vởi user khác\n",
        "        #     # Only considering not watched/rated movies\n",
        "        #     if movieid not in get_movieids(userid):# or get_rating(userid,movieid) == 0:\n",
        "        #       total[movieid] = 0\n",
        "        #       total[movieid] += get_rating(user,movieid) * score #=> person nhân cho ratings của user ứng cử tương ứng\n",
        "        #     similariy_sum[movieid] = 0\n",
        "        #     similariy_sum[movieid] += score # tổng tổng độ tương tự của user target và các user khác \n",
        "\n",
        "    \n",
        "    # Normalizing ratings\n",
        "    ranking = [(tot/similariy_sum[movieid],movieid) for movieid,tot in total.items()]\n",
        "    ranking.sort() # sắp xếp tăng dần\n",
        "    ranking.reverse() # đẩo chiều cho giảm dần\n",
        "    \n",
        "    \n",
        "    recommendations = [(get_movie_title_(movieid), score) for score,movieid in ranking]\n",
        "    return recommendations[:10]\n",
        "print(get_recommendation1_(20))"
      ],
      "metadata": {
        "colab": {
          "base_uri": "https://localhost:8080/"
        },
        "id": "NIEMMK1PqwJj",
        "outputId": "09ee029b-c708-404b-9db5-b132189558eb"
      },
      "execution_count": 118,
      "outputs": [
        {
          "output_type": "stream",
          "name": "stdout",
          "text": [
            "[('Inception (2010)', 5.0), ('Inglourious Basterds (2009)', 5.0), ('Ponyo (Gake no ue no Ponyo) (2008)', 5.0), ('Watchmen (2009)', 5.0), ('Michael Clayton (2007)', 5.0), ('Step Up (2006)', 5.0), ('Take the Lead (2006)', 5.0), ('Goal! The Dream Begins (Goal!) (2005)', 5.0), ('Ice Princess (2005)', 5.0), ('Memories of Murder (Salinui chueok) (2003)', 5.0)]\n"
          ]
        }
      ]
    },
    {
      "cell_type": "code",
      "source": [],
      "metadata": {
        "id": "08n6XQz0qwLD"
      },
      "execution_count": null,
      "outputs": []
    },
    {
      "cell_type": "code",
      "source": [],
      "metadata": {
        "id": "w2qweidqqwM6"
      },
      "execution_count": null,
      "outputs": []
    },
    {
      "cell_type": "code",
      "source": [],
      "metadata": {
        "id": "C-gv_BnsqwOg"
      },
      "execution_count": null,
      "outputs": []
    },
    {
      "cell_type": "code",
      "source": [],
      "metadata": {
        "id": "7HVo0a2CqwQE"
      },
      "execution_count": null,
      "outputs": []
    },
    {
      "cell_type": "code",
      "source": [],
      "metadata": {
        "id": "Yl5ZfJfsqwRn"
      },
      "execution_count": null,
      "outputs": []
    }
  ]
}