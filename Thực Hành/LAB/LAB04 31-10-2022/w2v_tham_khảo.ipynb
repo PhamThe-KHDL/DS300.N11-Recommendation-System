{
  "nbformat": 4,
  "nbformat_minor": 0,
  "metadata": {
    "colab": {
      "provenance": [],
      "collapsed_sections": []
    },
    "kernelspec": {
      "name": "python3",
      "display_name": "Python 3"
    },
    "language_info": {
      "name": "python"
    }
  },
  "cells": [
    {
      "cell_type": "code",
      "metadata": {
        "id": "HMv8w-XSuSWa"
      },
      "source": [
        "from gensim.models import KeyedVectors\n",
        "from gensim import models\n",
        "\n",
        "word2vec_path = '/content/drive/MyDrive/Giảng dạy/Hệ khuyến nghị/lab4/word_embedding/baomoi.window2.vn.model.bin.gz'\n",
        "w2v_model = models.KeyedVectors.load_word2vec_format(word2vec_path, binary=True)"
      ],
      "execution_count": null,
      "outputs": []
    },
    {
      "cell_type": "code",
      "metadata": {
        "colab": {
          "base_uri": "https://localhost:8080/"
        },
        "id": "d_CIAo3yuSYh",
        "outputId": "931949e2-318e-4fa4-ac28-b11e9ed1d243"
      },
      "source": [
        "type(w2v_model)"
      ],
      "execution_count": null,
      "outputs": [
        {
          "output_type": "execute_result",
          "data": {
            "text/plain": [
              "gensim.models.keyedvectors.Word2VecKeyedVectors"
            ]
          },
          "metadata": {},
          "execution_count": 2
        }
      ]
    },
    {
      "cell_type": "code",
      "metadata": {
        "colab": {
          "base_uri": "https://localhost:8080/"
        },
        "id": "MqNuzuR4uScY",
        "outputId": "fbddf5da-b52b-4ebf-e07c-e93b29c9dca8"
      },
      "source": [
        "w2v_model.most_similar('đẹp')"
      ],
      "execution_count": null,
      "outputs": [
        {
          "output_type": "execute_result",
          "data": {
            "text/plain": [
              "[('đẹp_đẽ', 0.6170716285705566),\n",
              " ('đep', 0.6112087965011597),\n",
              " ('quyến_rũ', 0.6025048494338989),\n",
              " ('gợi_cảm', 0.6002602577209473),\n",
              " ('đẹp_duyên_dáng', 0.5887534022331238),\n",
              " ('xinh', 0.5827246904373169),\n",
              " ('xinh_đẹp', 0.5774518251419067),\n",
              " ('kiều_diễm', 0.5736050605773926),\n",
              " ('đpẹ', 0.5700065493583679),\n",
              " ('gợi_tình', 0.5647059679031372)]"
            ]
          },
          "metadata": {},
          "execution_count": 6
        }
      ]
    },
    {
      "cell_type": "code",
      "metadata": {
        "colab": {
          "base_uri": "https://localhost:8080/"
        },
        "id": "SSj8rGKTuSfi",
        "outputId": "eef5e26f-9d4e-49f4-9939-837f0c1bccb2"
      },
      "source": [
        "vocab = w2v_model.wv.vocab\n",
        "print(\"The total number of words are : \",len(vocab))\n",
        "# vocab"
      ],
      "execution_count": null,
      "outputs": [
        {
          "output_type": "stream",
          "name": "stdout",
          "text": [
            "The total number of words are :  439056\n"
          ]
        },
        {
          "output_type": "stream",
          "name": "stderr",
          "text": [
            "/usr/local/lib/python3.7/dist-packages/ipykernel_launcher.py:1: DeprecationWarning: Call to deprecated `wv` (Attribute will be removed in 4.0.0, use self instead).\n",
            "  \"\"\"Entry point for launching an IPython kernel.\n"
          ]
        }
      ]
    },
    {
      "cell_type": "code",
      "source": [
        "w2v_model.wv.get_vector(\"về\")"
      ],
      "metadata": {
        "id": "bC8Cm_kczW0y"
      },
      "execution_count": null,
      "outputs": []
    },
    {
      "cell_type": "code",
      "metadata": {
        "id": "u7PyamYJ7N3C"
      },
      "source": [
        "word_vec_dict={}\n",
        "for word in vocab:\n",
        "  word_vec_dict[word]=w2v_model.wv.get_vector(word)\n",
        "print(\"The no of key-value pairs : \",len(word_vec_dict)) # bằng kích thước tập từ vựng"
      ],
      "execution_count": null,
      "outputs": []
    },
    {
      "cell_type": "code",
      "metadata": {
        "id": "gTGLwgeJ7ODw"
      },
      "source": [
        "word_vec_dict"
      ],
      "execution_count": null,
      "outputs": []
    },
    {
      "cell_type": "code",
      "metadata": {
        "id": "K1SAv-tS9ouE"
      },
      "source": [
        "train_set = [\"Bộ phim kể về cuộc chiến đấu chống lại những linh hồn ác quỷ.\",\n",
        "          \"Cuộc đột nhập của Thom một kỹ sư thiên tài vào một ngân hàng bí ẩn tại Hồng Kông.\",\n",
        "          \"Phim về những rắc rối hài hước đời thường và thế giới tình yêu.\",\n",
        "          \"Về các siêu anh hùng nguy hiểm mang quy mô quốc tế.\"] "
      ],
      "execution_count": null,
      "outputs": []
    },
    {
      "cell_type": "code",
      "metadata": {
        "id": "1QFdFSW29o2V"
      },
      "source": [
        "# !pip install pyvi"
      ],
      "execution_count": null,
      "outputs": []
    },
    {
      "cell_type": "code",
      "metadata": {
        "id": "a_7eoi5h-SMT"
      },
      "source": [
        "from pyvi import ViTokenizer\n",
        "#tiền xử lý \n",
        "#code here"
      ],
      "execution_count": null,
      "outputs": []
    },
    {
      "cell_type": "code",
      "metadata": {
        "colab": {
          "base_uri": "https://localhost:8080/"
        },
        "id": "v73l-ayt_E1f",
        "outputId": "1e74c8d0-6878-46bf-c9eb-f7e04dbfc539"
      },
      "source": [
        "#tìm max_length\n",
        "maxi=0\n",
        "for i,cont in enumerate(train_set):\n",
        "  print(i)\n",
        "  print(cont)\n",
        "  tokens=cont.split()\n",
        "  if(len(tokens)>maxi):\n",
        "    maxi=len(tokens)\n",
        "maxi"
      ],
      "execution_count": null,
      "outputs": [
        {
          "output_type": "stream",
          "name": "stdout",
          "text": [
            "0\n",
            "Bộ phim kể về cuộc chiến đấu chống lại những linh hồn ác quỷ.\n",
            "1\n",
            "Cuộc đột nhập của Thom một kỹ sư thiên tài vào một ngân hàng bí ẩn tại Hồng Kông.\n",
            "2\n",
            "Phim về những rắc rối hài hước đời thường và thế giới tình yêu.\n",
            "3\n",
            "Về các siêu anh hùng nguy hiểm mang quy mô quốc tế.\n"
          ]
        },
        {
          "output_type": "execute_result",
          "data": {
            "text/plain": [
              "19"
            ]
          },
          "metadata": {},
          "execution_count": 19
        }
      ]
    },
    {
      "cell_type": "code",
      "metadata": {
        "colab": {
          "base_uri": "https://localhost:8080/"
        },
        "id": "MdsgYgY2_p1z",
        "outputId": "aa646c4c-55ee-4935-c237-809ea8b91632"
      },
      "source": [
        "from keras.preprocessing.text import Tokenizer\n",
        "tok = Tokenizer()\n",
        "tok.fit_on_texts(train_set)\n",
        "\n",
        "\n",
        "vocab_size = len(tok.word_index)\n",
        "print(tok.word_index)\n",
        "print(vocab_size)\n",
        "\n",
        "\n",
        "encd_cont = tok.texts_to_sequences(train_set)\n",
        "print(encd_cont)\n"
      ],
      "execution_count": null,
      "outputs": [
        {
          "output_type": "stream",
          "name": "stdout",
          "text": [
            "{'về': 1, 'phim': 2, 'cuộc': 3, 'những': 4, 'một': 5, 'bộ': 6, 'kể': 7, 'chiến': 8, 'đấu': 9, 'chống': 10, 'lại': 11, 'linh': 12, 'hồn': 13, 'ác': 14, 'quỷ': 15, 'đột': 16, 'nhập': 17, 'của': 18, 'thom': 19, 'kỹ': 20, 'sư': 21, 'thiên': 22, 'tài': 23, 'vào': 24, 'ngân': 25, 'hàng': 26, 'bí': 27, 'ẩn': 28, 'tại': 29, 'hồng': 30, 'kông': 31, 'rắc': 32, 'rối': 33, 'hài': 34, 'hước': 35, 'đời': 36, 'thường': 37, 'và': 38, 'thế': 39, 'giới': 40, 'tình': 41, 'yêu': 42, 'các': 43, 'siêu': 44, 'anh': 45, 'hùng': 46, 'nguy': 47, 'hiểm': 48, 'mang': 49, 'quy': 50, 'mô': 51, 'quốc': 52, 'tế': 53}\n",
            "53\n",
            "[[6, 2, 7, 1, 3, 8, 9, 10, 11, 4, 12, 13, 14, 15], [3, 16, 17, 18, 19, 5, 20, 21, 22, 23, 24, 5, 25, 26, 27, 28, 29, 30, 31], [2, 1, 4, 32, 33, 34, 35, 36, 37, 38, 39, 40, 41, 42], [1, 43, 44, 45, 46, 47, 48, 49, 50, 51, 52, 53]]\n"
          ]
        }
      ]
    },
    {
      "cell_type": "code",
      "metadata": {
        "id": "CNZVoJKU-SPr"
      },
      "source": [
        "max_cont_len=19  # Chiều dài lớn nhất trong train\n",
        "vocab_size = len(tok.word_index) + 1  # tổng số từ trong từ vựng\n",
        "embed_dim = 300 # chiều dài embedding"
      ],
      "execution_count": null,
      "outputs": []
    },
    {
      "cell_type": "code",
      "metadata": {
        "colab": {
          "base_uri": "https://localhost:8080/"
        },
        "id": "Je_JgNaa-SS5",
        "outputId": "5b34985b-2339-497d-b758-fc070f829964"
      },
      "source": [
        "# now padding to have a amximum length of 19\n",
        "from keras_preprocessing.sequence import pad_sequences\n",
        "pad_cont= pad_sequences(encd_cont, maxlen=max_cont_len, padding='post')\n",
        "pad_cont.shape"
      ],
      "execution_count": null,
      "outputs": [
        {
          "output_type": "execute_result",
          "data": {
            "text/plain": [
              "(4, 19)"
            ]
          },
          "metadata": {},
          "execution_count": 26
        }
      ]
    },
    {
      "cell_type": "code",
      "metadata": {
        "colab": {
          "base_uri": "https://localhost:8080/"
        },
        "id": "WKvLgQmz-SUp",
        "outputId": "33e5c8cb-69ed-4268-de43-fa7e0e824de8"
      },
      "source": [
        "pad_cont[0]"
      ],
      "execution_count": null,
      "outputs": [
        {
          "output_type": "execute_result",
          "data": {
            "text/plain": [
              "array([ 6,  2,  7,  1,  3,  8,  9, 10, 11,  4, 12, 13, 14, 15,  0,  0,  0,\n",
              "        0,  0], dtype=int32)"
            ]
          },
          "metadata": {},
          "execution_count": 41
        }
      ]
    },
    {
      "cell_type": "code",
      "metadata": {
        "id": "8C--Qlj_mI3s"
      },
      "source": [
        "#chuyển 1 câu thành ma trận vector của nó bằng cách lấy ra vector tướng ứng cho từng từ và nối lại nhau thành một array\n",
        "#code here"
      ],
      "execution_count": null,
      "outputs": []
    }
  ]
}