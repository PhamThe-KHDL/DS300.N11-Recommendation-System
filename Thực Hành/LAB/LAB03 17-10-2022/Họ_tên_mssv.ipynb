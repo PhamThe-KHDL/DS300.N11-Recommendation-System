{
  "nbformat": 4,
  "nbformat_minor": 0,
  "metadata": {
    "colab": {
      "provenance": [],
      "collapsed_sections": [],
      "machine_shape": "hm"
    },
    "kernelspec": {
      "name": "python3",
      "display_name": "Python 3"
    },
    "language_info": {
      "name": "python"
    }
  },
  "cells": [
    {
      "cell_type": "markdown",
      "source": [
        "- Họ tên SV:\n",
        "- MSSV: \n",
        "- Yêu cầu: hoàn thành các phần code thiếu: #code here"
      ],
      "metadata": {
        "id": "Yh3rVT7oBfqx"
      }
    },
    {
      "cell_type": "code",
      "metadata": {
        "colab": {
          "base_uri": "https://localhost:8080/"
        },
        "id": "PX0myxiIx1x4",
        "outputId": "895f00fa-6012-4132-eaf1-38cd8021b7b8"
      },
      "source": [
        "from google.colab import drive\n",
        "drive.mount('/content/drive')"
      ],
      "execution_count": null,
      "outputs": [
        {
          "output_type": "stream",
          "name": "stdout",
          "text": [
            "Drive already mounted at /content/drive; to attempt to forcibly remount, call drive.mount(\"/content/drive\", force_remount=True).\n"
          ]
        }
      ]
    },
    {
      "cell_type": "code",
      "metadata": {
        "id": "gvnqCGSox4Io"
      },
      "source": [
        "#importing necessary libraries\n",
        "import numpy as np\n",
        "import pandas as pd\n",
        "# thêm thư viện TfidfVectorizer\n",
        "#core here\n",
        "#thêm thư viện linear_kernel\n",
        "#core here\n"
      ],
      "execution_count": null,
      "outputs": []
    },
    {
      "cell_type": "code",
      "metadata": {
        "id": "EFsWP1y43FOa"
      },
      "source": [
        "#Load dữ liệu movies_metadata.csv\n",
        "#code here\n",
        "# movies = ?\n"
      ],
      "execution_count": null,
      "outputs": []
    },
    {
      "cell_type": "code",
      "metadata": {
        "id": "SRazSGTd3FQa"
      },
      "source": [
        "#xuất ra overview của 5 bộ phim đầu tiên\n",
        "#code here"
      ],
      "execution_count": null,
      "outputs": []
    },
    {
      "cell_type": "code",
      "metadata": {
        "id": "FUIHAQyP3FRy"
      },
      "source": [
        "# viết hàm tiền xử lý dữ liệu trên cột overview\n",
        "#  - chuyển về từ thường\n",
        "#  - Xóa dấu câu, ký tự đặc biệt\n",
        "#  - xóa stopword\n",
        "#  - tách từ\n",
        "#  ...\n",
        "#code here"
      ],
      "execution_count": null,
      "outputs": []
    },
    {
      "cell_type": "code",
      "metadata": {
        "id": "FO12YM6JVNfB"
      },
      "source": [
        "#sử dụng TfidfVectorizer để chuyển cột overview của các bộ phim về tf-idf và lưu vào biến overview_matrix\n",
        "# code here"
      ],
      "execution_count": null,
      "outputs": []
    },
    {
      "cell_type": "code",
      "metadata": {
        "id": "_5Ufw0dLWyhP"
      },
      "source": [
        "# in ra shape của overview_matrix nếu = (45466, 75827) là đúng.\n",
        "#code here"
      ],
      "execution_count": null,
      "outputs": []
    },
    {
      "cell_type": "code",
      "metadata": {
        "id": "wGUavQ3y3FTB"
      },
      "source": [
        "# tính toán cosine giữa các bộ phim với nhau bằng linear_kernel\n",
        "#code here"
      ],
      "execution_count": null,
      "outputs": []
    },
    {
      "cell_type": "code",
      "metadata": {
        "id": "VVYEYN4ux4J8"
      },
      "source": [
        "#đánh index cho các bộ phim bằng  pd.Series() và lưu trong biến mapping\n",
        "#code here"
      ],
      "execution_count": null,
      "outputs": []
    },
    {
      "cell_type": "code",
      "metadata": {
        "id": "zaQUZ97nBxbJ"
      },
      "source": [
        "#viết hàm nhận vào index của bộ phim trả về tên của bộ phim\n",
        "#code here"
      ],
      "execution_count": null,
      "outputs": []
    },
    {
      "cell_type": "code",
      "metadata": {
        "id": "xYDehga0x4Lh"
      },
      "source": [
        "#viết hàm trả và top 10 bộ phim sẽ đem đi khuyến nghị cho người dùng U. Người dung U đã xem bộ phim có tên là \"Father of the Bride Part II\"\n",
        "#code here"
      ],
      "execution_count": null,
      "outputs": []
    }
  ]
}